{
 "cells": [
  {
   "cell_type": "code",
   "execution_count": 1,
   "id": "ad715bd2-9e77-47cc-bcc6-7007f8b58c2e",
   "metadata": {},
   "outputs": [],
   "source": [
    "#dataset\n",
    "#A\n",
    "a = [0, 0, 1, 1, 0, 0,\n",
    "    0, 1, 0, 0, 1, 0,\n",
    "    1, 1, 1, 1, 1, 1,\n",
    "    1, 0, 0, 0, 0, 1,\n",
    "    1, 0, 0, 0, 0, 1]\n",
    "#B\n",
    "b = [0, 1, 1, 1, 1, 0,\n",
    "    0, 1, 0, 0, 1, 0,\n",
    "    0, 1, 1, 1, 1, 0,\n",
    "    0, 1, 0, 0, 1, 0,\n",
    "    0, 1, 1, 1, 1, 0]\n",
    "#C\n",
    "c = [0, 1, 1, 1, 1, 0,\n",
    "    0, 1, 0, 0, 0, 0,\n",
    "    0, 1, 0, 0, 0, 0,\n",
    "    0, 1, 0, 0, 0, 0,\n",
    "    0, 1, 1, 1, 1, 0]"
   ]
  },
  {
   "cell_type": "code",
   "execution_count": 2,
   "id": "cf7a75a0-2649-4a48-baaf-76ca8dd089c0",
   "metadata": {},
   "outputs": [],
   "source": [
    "#creating labels\n",
    "y = [[1, 0, 0],\n",
    "     [0, 1, 0],\n",
    "     [0, 0, 1]]"
   ]
  },
  {
   "cell_type": "code",
   "execution_count": 3,
   "id": "d5783189-bb7a-46f8-abb1-89c8d26ef5a0",
   "metadata": {},
   "outputs": [],
   "source": [
    "import numpy as np\n",
    "import matplotlib.pyplot as plt"
   ]
  },
  {
   "cell_type": "code",
   "execution_count": 4,
   "id": "122ce397-2e76-4cb0-8fd7-759f4cebf842",
   "metadata": {},
   "outputs": [
    {
     "data": {
      "image/png": "[encoded data removed]",
      "text/plain": [
       "<Figure size 640x480 with 1 Axes>"
      ]
     },
     "metadata": {},
     "output_type": "display_data"
    }
   ],
   "source": [
    "#visualize the data\n",
    "plt.imshow(np.array(a).reshape(5, 6))\n",
    "plt.show()"
   ]
  },
  {
   "cell_type": "code",
   "execution_count": 5,
   "id": "e0381610-06df-4cb2-bf51-efe842c6fdf9",
   "metadata": {},
   "outputs": [
    {
     "name": "stdout",
     "output_type": "stream",
     "text": [
      "[array([[0, 0, 1, 1, 0, 0, 0, 1, 0, 0, 1, 0, 1, 1, 1, 1, 1, 1, 1, 0, 0, 0,\n",
      "        0, 1, 1, 0, 0, 0, 0, 1]]), array([[0, 1, 1, 1, 1, 0, 0, 1, 0, 0, 1, 0, 0, 1, 1, 1, 1, 0, 0, 1, 0, 0,\n",
      "        1, 0, 0, 1, 1, 1, 1, 0]]), array([[0, 1, 1, 1, 1, 0, 0, 1, 0, 0, 0, 0, 0, 1, 0, 0, 0, 0, 0, 1, 0, 0,\n",
      "        0, 0, 0, 1, 1, 1, 1, 0]])] \n",
      "\n",
      " [[1 0 0]\n",
      " [0 1 0]\n",
      " [0 0 1]]\n"
     ]
    }
   ],
   "source": [
    "#Convert data and lables into numpy array\n",
    "x = [np.array(a).reshape(1, 30), np.array(b).reshape(1, 30), np.array(c).reshape(1, 30)]\n",
    "y = np.array(y)\n",
    "\n",
    "print(x, \"\\n\\n\", y)"
   ]
  },
  {
   "cell_type": "code",
   "execution_count": 6,
   "id": "5c896f47-7996-4009-bf6a-874806ebdf3a",
   "metadata": {},
   "outputs": [],
   "source": [
    "#input layer\n",
    "#hidden layer\n",
    "#output layer"
   ]
  },
  {
   "cell_type": "code",
   "execution_count": 7,
   "id": "ff77d7fa-2f08-4416-95b0-57ab8e07931a",
   "metadata": {},
   "outputs": [],
   "source": [
    "#activation function\n",
    "def sigmoid(x):\n",
    "    return (1/(1+np.exp(-x)))"
   ]
  },
  {
   "cell_type": "code",
   "execution_count": 8,
   "id": "4a9a0497-24b4-49a4-a8cc-ba31bd3cea99",
   "metadata": {},
   "outputs": [],
   "source": [
    "#Creating a feed forward netural network\n",
    "def f_forward(x, w1, w2):\n",
    "    #hidden layer\n",
    "    z1 = x.dot(w1)\n",
    "    a1 = sigmoid(z1)\n",
    "\n",
    "    #output layer\n",
    "    z2 = a1.dot(w2)\n",
    "    a2 = sigmoid(z2)\n",
    "    return (a2)"
   ]
  },
  {
   "cell_type": "code",
   "execution_count": 9,
   "id": "7cb38556-6055-48bb-b3c5-980dbf91f7f5",
   "metadata": {},
   "outputs": [],
   "source": [
    "# initialize weights \n",
    "def generate_wt(x, y):\n",
    "    l = []\n",
    "    for i in range (x*y):\n",
    "        l.append(np.random.randn())\n",
    "    return (np.array(l).reshape(x, y))"
   ]
  },
  {
   "cell_type": "code",
   "execution_count": 10,
   "id": "19978910-f407-4847-b9aa-36d0dd859af2",
   "metadata": {},
   "outputs": [],
   "source": [
    "#loss computation \n",
    "def loss(out, y):\n",
    "    s = (np.square(out-y))\n",
    "    s = np.sum(s)/len(y)\n",
    "    return(s)"
   ]
  },
  {
   "cell_type": "code",
   "execution_count": 11,
   "id": "f4ac9da5-6ff4-45ce-a0a7-5f2a7df1d1ea",
   "metadata": {},
   "outputs": [],
   "source": [
    "#back propagation\n",
    "def back_prop(x, y, w1, w2, alpha):\n",
    "\n",
    "    #hidden layer\n",
    "    z1 = x.dot(w1)\n",
    "    a1 = sigmoid(z1)\n",
    "\n",
    "    #output layer\n",
    "    z2 = a1.dot(w2)\n",
    "    a2 = sigmoid(z2)\n",
    "\n",
    "    d2 = (a2-y)\n",
    "    d1_term = (w2.dot(d2.T)).T  # shape: (batch_size, hidden_size)\n",
    "    d1 = np.multiply(d1_term, a1 * (1 - a1))  # element-wise multiplication\n",
    "\n",
    "    # Gradient computation\n",
    "    w1_adj = x.T.dot(d1)\n",
    "    w2_adj = a1.T.dot(d2)\n",
    "\n",
    "    w1 = w1 - (alpha*(w1_adj))\n",
    "    w2 = w2 - (alpha*(w2_adj))\n",
    "\n",
    "    return (w1,w2)\n",
    "    "
   ]
  },
  {
   "cell_type": "code",
   "execution_count": 12,
   "id": "8e46a197-db6d-4e5b-8847-aa45293a88db",
   "metadata": {},
   "outputs": [],
   "source": [
    "# train the dataset\n",
    "\n",
    "def train(x, y, w1, w2, alpha= 0.01, epoch= 10):\n",
    "    acc= []\n",
    "    losss= []\n",
    "\n",
    "    for j in range(epoch):\n",
    "        l= []\n",
    "        for i in range(len(x)):\n",
    "            out = f_forward(x[i], w1, w2)\n",
    "            l.append((loss(out, y[i])))\n",
    "            w1, w2 = back_prop(x[i], y[i], w1, w2, alpha)\n",
    "        print(\"Epochs:\", j+1, \"acc:\", (1-sum(l)/len(x))*100)\n",
    "        acc.append((1-sum(l)/len(x))*100)\n",
    "        losss.append(sum(l)/len(x))\n",
    "    return acc, losss, w1, w2"
   ]
  },
  {
   "cell_type": "code",
   "execution_count": 13,
   "id": "b072f7a2-d2b5-4b44-a725-5ad444f8bf71",
   "metadata": {},
   "outputs": [],
   "source": [
    "# predicting the values\n",
    "def predict(x, w1, w2):\n",
    "    Out = f_forward(x, w1, w2)\n",
    "    maxm = 0\n",
    "    k = 0\n",
    "    for i in range(len(Out[0])): \n",
    "        if(maxm < Out[0][i]):\n",
    "            maxm= Out[0][i]\n",
    "            k= i\n",
    "    if(k == 0):\n",
    "        print(\"Image is of letter A\")\n",
    "    elif(k == 1):\n",
    "        print(\"Image is of letter B\")\n",
    "    else:\n",
    "        print(\"Image is of letter C\")\n",
    "    plt.imshow(x.reshape(5, 6))\n",
    "    plt.show()"
   ]
  },
  {
   "cell_type": "code",
   "execution_count": 14,
   "id": "2c234e02-2f59-4764-afa6-4482133b2ccc",
   "metadata": {},
   "outputs": [
    {
     "name": "stdout",
     "output_type": "stream",
     "text": [
      "[[-0.64293543 -1.74874848  0.76538142  0.282866    0.35977173]\n",
      " [-0.3461815  -1.20354217 -1.4489981  -0.53373321 -0.21999034]\n",
      " [-0.89331051  0.79954974 -0.5967022  -0.21941662  1.99432712]\n",
      " [ 1.49858013 -0.16296417 -1.02653566 -0.52076245 -0.38135549]\n",
      " [ 0.38624823  0.32862372  1.913922    0.10502712 -0.63069684]\n",
      " [-0.83645002 -0.32217304  0.36257188 -2.48516364  1.42291605]\n",
      " [ 1.07973699  0.21521906  0.90576613 -1.574293   -0.58537069]\n",
      " [-1.24144484  1.27678775  2.01668118  0.52881756  1.42449315]\n",
      " [-1.58186641  0.55790875  1.76865807  0.89155237  1.29657922]\n",
      " [ 0.46890092 -1.47100547  0.08673459 -0.87889149 -0.28410187]\n",
      " [ 0.27822039 -0.19853505  1.4291114   0.89361768  0.63898206]\n",
      " [-0.49224581 -0.14214075  1.56735572  0.48728406  1.32213713]\n",
      " [ 0.50442506  0.99885566  0.63548812 -1.22321007 -0.25830729]\n",
      " [ 0.30213627 -0.63045461 -0.65145095  0.10555046 -0.55428931]\n",
      " [-1.437682   -0.6955703  -0.38108364 -0.81774335 -1.83236241]\n",
      " [ 0.38047254  0.08197688  0.13596926 -0.53020472 -0.20860008]\n",
      " [ 0.50691389 -0.66380308 -0.2401916  -0.7907148   0.73259078]\n",
      " [ 0.78244065  1.22409398  2.04004505  2.76304744  0.61272342]\n",
      " [ 0.55376691  0.40400425 -0.76908407 -0.39600727  0.86574721]\n",
      " [-0.91009572 -1.47301558  0.44131903 -1.89879172  0.22655405]\n",
      " [-0.23001225 -0.29925817 -0.80426954 -0.72116015 -0.2704534 ]\n",
      " [ 0.27849459  2.285222    0.67619519  0.76758111 -1.18468069]\n",
      " [ 0.8760537  -0.46160169  0.26563169 -1.36014391 -0.37993722]\n",
      " [ 0.3074193  -1.92495017 -0.55354288 -0.41713885 -1.36238184]\n",
      " [-1.02562701 -0.47539057 -0.66610502  0.0743479  -1.80767557]\n",
      " [-2.6262686  -0.76001231  0.93240503 -2.3557902   1.24129234]\n",
      " [ 0.94871299  0.0411093  -1.01386468 -1.03409148 -0.3981483 ]\n",
      " [ 0.52233281 -0.3102196   0.51524996  0.77602402  2.10888717]\n",
      " [-1.11377609  0.08750992 -1.18890828 -0.68029447 -0.21426498]\n",
      " [-0.15617904 -1.37902077  0.04088518 -0.53797477  0.66641298]] \n",
      "\n",
      " [[ 0.25277671 -0.68918062  0.04945433]\n",
      " [ 0.18698401 -0.62536543 -0.65472836]\n",
      " [ 1.35905736 -1.05046268  0.48927889]\n",
      " [ 0.65319285  0.06291397  0.59103951]\n",
      " [-0.57232914  1.7443782  -0.30962645]]\n"
     ]
    }
   ],
   "source": [
    "w1= generate_wt(30, 5)\n",
    "w2= generate_wt(5, 3)\n",
    "\n",
    "print(w1, \"\\n\\n\", w2)"
   ]
  },
  {
   "cell_type": "code",
   "execution_count": 15,
   "id": "bbf307e9-1e2c-4df1-9ea4-430ec0adba82",
   "metadata": {},
   "outputs": [
    {
     "name": "stdout",
     "output_type": "stream",
     "text": [
      "Epochs: 1 acc: 72.53722227207126\n",
      "Epochs: 2 acc: 74.3402769963315\n",
      "Epochs: 3 acc: 75.8856544315748\n",
      "Epochs: 4 acc: 77.22816181357973\n",
      "Epochs: 5 acc: 78.40418189573334\n",
      "Epochs: 6 acc: 79.43602806628503\n",
      "Epochs: 7 acc: 80.3398496729372\n",
      "Epochs: 8 acc: 81.13103231316065\n",
      "Epochs: 9 acc: 81.8250942623444\n",
      "Epochs: 10 acc: 82.4364611149996\n",
      "Epochs: 11 acc: 82.97755673515034\n",
      "Epochs: 12 acc: 83.45871072098744\n",
      "Epochs: 13 acc: 83.88845971897072\n",
      "Epochs: 14 acc: 84.2738920887591\n",
      "Epochs: 15 acc: 84.62092516017833\n",
      "Epochs: 16 acc: 84.93451725096195\n",
      "Epochs: 17 acc: 85.21883623442108\n",
      "Epochs: 18 acc: 85.47739862098443\n",
      "Epochs: 19 acc: 85.7131854754816\n",
      "Epochs: 20 acc: 85.92873832039002\n",
      "Epochs: 21 acc: 86.12623751974355\n",
      "Epochs: 22 acc: 86.30756568994528\n",
      "Epochs: 23 acc: 86.47435868644413\n",
      "Epochs: 24 acc: 86.62804652596647\n",
      "Epochs: 25 acc: 86.76988628750725\n",
      "Epochs: 26 acc: 86.90098867955498\n",
      "Epochs: 27 acc: 87.02233962447437\n",
      "Epochs: 28 acc: 87.13481792090312\n",
      "Epochs: 29 acc: 87.23920980837295\n",
      "Epochs: 30 acc: 87.33622107162076\n",
      "Epochs: 31 acc: 87.42648717757558\n",
      "Epochs: 32 acc: 87.51058182742966\n",
      "Epochs: 33 acc: 87.58902422196093\n",
      "Epochs: 34 acc: 87.66228527410857\n",
      "Epochs: 35 acc: 87.7307929537859\n",
      "Epochs: 36 acc: 87.79493691227638\n",
      "Epochs: 37 acc: 87.85507250446848\n",
      "Epochs: 38 acc: 87.9115243045366\n",
      "Epochs: 39 acc: 87.96458919290615\n",
      "Epochs: 40 acc: 88.01453907829308\n",
      "Epochs: 41 acc: 88.06162330742285\n",
      "Epochs: 42 acc: 88.10607080606249\n",
      "Epochs: 43 acc: 88.14809198776399\n",
      "Epochs: 44 acc: 88.1878804608403\n",
      "Epochs: 45 acc: 88.22561455930385\n",
      "Epochs: 46 acc: 88.26145871956467\n",
      "Epochs: 47 acc: 88.29556472144756\n",
      "Epochs: 48 acc: 88.32807280940622\n",
      "Epochs: 49 acc: 88.35911270758469\n",
      "Epochs: 50 acc: 88.38880454051657\n",
      "Epochs: 51 acc: 88.41725966969291\n",
      "Epochs: 52 acc: 88.44458145491672\n",
      "Epochs: 53 acc: 88.47086594825223\n",
      "Epochs: 54 acc: 88.4962025274339\n",
      "Epochs: 55 acc: 88.52067447479538\n",
      "Epochs: 56 acc: 88.5443595070899\n",
      "Epochs: 57 acc: 88.56733026097996\n",
      "Epochs: 58 acc: 88.58965473846222\n",
      "Epochs: 59 acc: 88.61139671604774\n",
      "Epochs: 60 acc: 88.63261612113199\n",
      "Epochs: 61 acc: 88.65336937864919\n",
      "Epochs: 62 acc: 88.67370973081033\n",
      "Epochs: 63 acc: 88.69368753246309\n",
      "Epochs: 64 acc: 88.71335052438324\n",
      "Epochs: 65 acc: 88.73274408660514\n",
      "Epochs: 66 acc: 88.75191147372163\n",
      "Epochs: 67 acc: 88.77089403392752\n",
      "Epochs: 68 acc: 88.78973141344359\n",
      "Epochs: 69 acc: 88.8084617478395\n",
      "Epochs: 70 acc: 88.82712184166972\n",
      "Epochs: 71 acc: 88.8457473377489\n",
      "Epochs: 72 acc: 88.8643728773187\n",
      "Epochs: 73 acc: 88.88303225229654\n",
      "Epochs: 74 acc: 88.90175855075006\n",
      "Epochs: 75 acc: 88.92058429670473\n",
      "Epochs: 76 acc: 88.93954158537136\n",
      "Epochs: 77 acc: 88.95866221486995\n",
      "Epochs: 78 acc: 88.97797781553174\n",
      "Epochs: 79 acc: 88.99751997787943\n",
      "Epochs: 80 acc: 89.01732038041904\n",
      "Epochs: 81 acc: 89.03741091842596\n",
      "Epochs: 82 acc: 89.05782383497423\n",
      "Epochs: 83 acc: 89.07859185554194\n",
      "Epochs: 84 acc: 89.09974832763022\n",
      "Epochs: 85 acc: 89.12132736695776\n",
      "Epochs: 86 acc: 89.14336401194136\n",
      "Epochs: 87 acc: 89.16589438834421\n",
      "Epochs: 88 acc: 89.18895588617085\n",
      "Epochs: 89 acc: 89.21258735111017\n",
      "Epochs: 90 acc: 89.2368292930761\n",
      "Epochs: 91 acc: 89.26172411466628\n",
      "Epochs: 92 acc: 89.28731636265047\n",
      "Epochs: 93 acc: 89.31365300590198\n",
      "Epochs: 94 acc: 89.34078374348874\n",
      "Epochs: 95 acc: 89.36876134692255\n",
      "Epochs: 96 acc: 89.39764204080033\n",
      "Epochs: 97 acc: 89.42748592621612\n",
      "Epochs: 98 acc: 89.4583574513169\n",
      "Epochs: 99 acc: 89.49032593313504\n",
      "Epochs: 100 acc: 89.52346613423738\n"
     ]
    }
   ],
   "source": [
    "acc, losss, w1, w2 = train(x,y,w1,w2,0.1,100)"
   ]
  },
  {
   "cell_type": "code",
   "execution_count": 16,
   "id": "c05e649d-6d4b-4590-acd5-ba3de19ccc3a",
   "metadata": {},
   "outputs": [
    {
     "data": {
      "image/png": "[encoded data removed]",
      "text/plain": [
       "<Figure size 640x480 with 1 Axes>"
      ]
     },
     "metadata": {},
     "output_type": "display_data"
    }
   ],
   "source": [
    "import matplotlib.pyplot as plt1\n",
    "\n",
    "#plotting accuracy\n",
    "plt1.plot(acc)\n",
    "plt.ylabel(\"Accuarcy\")\n",
    "plt.xlabel(\"Epochs:\")\n",
    "plt1.show()"
   ]
  },
  {
   "cell_type": "code",
   "execution_count": 17,
   "id": "a0f856ec-f2a6-466e-bd1b-8f94a5affe4f",
   "metadata": {},
   "outputs": [
    {
     "data": {
      "image/png": "[encoded data removed]",
      "text/plain": [
       "<Figure size 640x480 with 1 Axes>"
      ]
     },
     "metadata": {},
     "output_type": "display_data"
    }
   ],
   "source": [
    "#plot loss\n",
    "plt1.plot(losss)\n",
    "plt.ylabel(\"Loss\")\n",
    "plt.xlabel(\"Epochs:\")\n",
    "plt1.show()"
   ]
  },
  {
   "cell_type": "code",
   "execution_count": 18,
   "id": "0e5fd1b7-4012-4d23-81e8-e47babc926a8",
   "metadata": {},
   "outputs": [
    {
     "name": "stdout",
     "output_type": "stream",
     "text": [
      "[[-0.64293543 -1.74874848  0.76538142  0.282866    0.35977173]\n",
      " [-0.41278078 -1.21038254 -1.68287075 -0.53099067 -0.05181301]\n",
      " [-0.72340291  1.12262632 -0.47520374 -0.17038665  1.82324419]\n",
      " [ 1.66848773  0.16011242 -0.90503721 -0.47173248 -0.55243842]\n",
      " [ 0.31964894  0.32178335  1.68004935  0.10776966 -0.46251951]\n",
      " [-0.83645002 -0.32217304  0.36257188 -2.48516364  1.42291605]\n",
      " [ 1.07973699  0.21521906  0.90576613 -1.574293   -0.58537069]\n",
      " [-1.07153725  1.59986433  2.13817964  0.57784753  1.25341021]\n",
      " [-1.58186641  0.55790875  1.76865807  0.89155237  1.29657922]\n",
      " [ 0.46890092 -1.47100547  0.08673459 -0.87889149 -0.28410187]\n",
      " [ 0.47881427 -0.05054749  0.98523376  0.93912982  0.48453925]\n",
      " [-0.49224581 -0.14214075  1.56735572  0.48728406  1.32213713]\n",
      " [ 0.74093194  1.32877262  0.99085923 -1.17692264 -0.59756755]\n",
      " [ 0.47204387 -0.30737803 -0.5299525   0.15458042 -0.72537224]\n",
      " [-1.23708812 -0.54758274 -0.82496128 -0.77223121 -1.98680522]\n",
      " [ 0.58106641  0.22996443 -0.30790838 -0.48469258 -0.36304289]\n",
      " [ 0.70750777 -0.51581553 -0.68406925 -0.74520266  0.57814797]\n",
      " [ 1.01894754  1.55401093  2.39541616  2.80933488  0.27346316]\n",
      " [ 0.79027379  0.7339212  -0.41371296 -0.34971984  0.52648695]\n",
      " [-0.976695   -1.47985595  0.20744638 -1.89604918  0.39473138]\n",
      " [-0.23001225 -0.29925817 -0.80426954 -0.72116015 -0.2704534 ]\n",
      " [ 0.27849459  2.285222    0.67619519  0.76758111 -1.18468069]\n",
      " [ 0.84014069 -0.64353109 -0.53361706 -1.3609192  -0.19511977]\n",
      " [ 0.54392619 -1.59503322 -0.19817177 -0.37085141 -1.7016421 ]\n",
      " [-0.78912013 -0.14547362 -0.31073391  0.12063533 -2.14693583]\n",
      " [-2.69286788 -0.76685268  0.69853238 -2.35304766  1.40946967]\n",
      " [ 0.88211371  0.03426893 -1.24773734 -1.03134894 -0.22997097]\n",
      " [ 0.45573352 -0.31705997  0.2813773   0.77876656  2.2770645 ]\n",
      " [-1.18037537  0.08066955 -1.42278093 -0.67755193 -0.04608765]\n",
      " [ 0.08032784 -1.04910381  0.39625629 -0.49168734  0.32715272]] \n",
      "\n",
      " [[ 1.0226161  -0.96315398 -1.52205576]\n",
      " [ 0.57686024 -1.82571311 -0.87406314]\n",
      " [ 1.61619661 -1.87439784 -0.55936193]\n",
      " [ 0.93837067 -0.10431546  0.18544234]\n",
      " [-3.22397347  0.55988225  0.3657711 ]]\n"
     ]
    }
   ],
   "source": [
    "print(w1, \"\\n\\n\", w2)"
   ]
  },
  {
   "cell_type": "code",
   "execution_count": 19,
   "id": "21cf87f3-5dd1-4ebd-81c7-12aecdb7f5aa",
   "metadata": {},
   "outputs": [
    {
     "name": "stdout",
     "output_type": "stream",
     "text": [
      "Image is of letter A\n"
     ]
    },
    {
     "data": {
      "image/png": "[encoded data removed]",
      "text/plain": [
       "<Figure size 640x480 with 1 Axes>"
      ]
     },
     "metadata": {},
     "output_type": "display_data"
    }
   ],
   "source": [
    "predict(x[0], w1, w2)"
   ]
  },
  {
   "cell_type": "code",
   "execution_count": 20,
   "id": "e667f309-fd38-40dd-bb44-800074d2108c",
   "metadata": {},
   "outputs": [
    {
     "name": "stdout",
     "output_type": "stream",
     "text": [
      "Image is of letter B\n"
     ]
    },
    {
     "data": {
      "image/png": "[encoded data removed]",
      "text/plain": [
       "<Figure size 640x480 with 1 Axes>"
      ]
     },
     "metadata": {},
     "output_type": "display_data"
    }
   ],
   "source": [
    "predict(x[1], w1, w2)"
   ]
  },
  {
   "cell_type": "code",
   "execution_count": 21,
   "id": "43c28969-6afd-4127-aa2a-2d36bd2cbac4",
   "metadata": {},
   "outputs": [
    {
     "name": "stdout",
     "output_type": "stream",
     "text": [
      "Image is of letter C\n"
     ]
    },
    {
     "data": {
      "image/png": "[encoded data removed]",
      "text/plain": [
       "<Figure size 640x480 with 1 Axes>"
      ]
     },
     "metadata": {},
     "output_type": "display_data"
    }
   ],
   "source": [
    "predict(x[2], w1, w2)"
   ]
  },
  {
   "cell_type": "code",
   "execution_count": null,
   "id": "b6c8b1a0-430a-47ef-9b10-6020a9917874",
   "metadata": {},
   "outputs": [],
   "source": []
  }
 ],
 "metadata": {
  "kernelspec": {
   "display_name": "Python [conda env:base] *",
   "language": "python",
   "name": "conda-base-py"
  },
  "language_info": {
   "codemirror_mode": {
    "name": "ipython",
    "version": 3
   },
   "file_extension": ".py",
   "mimetype": "text/x-python",
   "name": "python",
   "nbconvert_exporter": "python",
   "pygments_lexer": "ipython3",
   "version": "3.12.7"
  }
 },
 "nbformat": 4,
 "nbformat_minor": 5
}
