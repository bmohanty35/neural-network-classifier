{
 "cells": [
  {
   "cell_type": "code",
   "execution_count": 1,
   "id": "ad715bd2-9e77-47cc-bcc6-7007f8b58c2e",
   "metadata": {},
   "outputs": [],
   "source": [
    "#dataset\n",
    "#A\n",
    "a = [0, 0, 1, 1, 0, 0,\n",
    "    0, 1, 0, 0, 1, 0,\n",
    "    1, 1, 1, 1, 1, 1,\n",
    "    1, 0, 0, 0, 0, 1,\n",
    "    1, 0, 0, 0, 0, 1]\n",
    "#B\n",
    "b = [0, 1, 1, 1, 1, 0,\n",
    "    0, 1, 0, 0, 1, 0,\n",
    "    0, 1, 1, 1, 1, 0,\n",
    "    0, 1, 0, 0, 1, 0,\n",
    "    0, 1, 1, 1, 1, 0]\n",
    "#C\n",
    "c = [0, 1, 1, 1, 1, 0,\n",
    "    0, 1, 0, 0, 0, 0,\n",
    "    0, 1, 0, 0, 0, 0,\n",
    "    0, 1, 0, 0, 0, 0,\n",
    "    0, 1, 1, 1, 1, 0]"
   ]
  },
  {
   "cell_type": "code",
   "execution_count": 2,
   "id": "cf7a75a0-2649-4a48-baaf-76ca8dd089c0",
   "metadata": {},
   "outputs": [],
   "source": [
    "#creating labels\n",
    "y = [[1, 0, 0],\n",
    "     [0, 1, 0],\n",
    "     [0, 0, 1]]"
   ]
  },
  {
   "cell_type": "code",
   "execution_count": 3,
   "id": "d5783189-bb7a-46f8-abb1-89c8d26ef5a0",
   "metadata": {},
   "outputs": [],
   "source": [
    "import numpy as np\n",
    "import matplotlib.pyplot as plt"
   ]
  },
  {
   "cell_type": "code",
   "execution_count": 4,
   "id": "122ce397-2e76-4cb0-8fd7-759f4cebf842",
   "metadata": {},
   "outputs": [
    {
     "data": {
      "image/png": "[encoded data removed]",
      "text/plain": [
       "<Figure size 640x480 with 1 Axes>"
      ]
     },
     "metadata": {},
     "output_type": "display_data"
    }
   ],
   "source": [
    "#visualize the data\n",
    "plt.imshow(np.array(a).reshape(5, 6))\n",
    "plt.show()"
   ]
  },
  {
   "cell_type": "code",
   "execution_count": 5,
   "id": "e0381610-06df-4cb2-bf51-efe842c6fdf9",
   "metadata": {},
   "outputs": [
    {
     "name": "stdout",
     "output_type": "stream",
     "text": [
      "[array([[0, 0, 1, 1, 0, 0, 0, 1, 0, 0, 1, 0, 1, 1, 1, 1, 1, 1, 1, 0, 0, 0,\n",
      "        0, 1, 1, 0, 0, 0, 0, 1]]), array([[0, 1, 1, 1, 1, 0, 0, 1, 0, 0, 1, 0, 0, 1, 1, 1, 1, 0, 0, 1, 0, 0,\n",
      "        1, 0, 0, 1, 1, 1, 1, 0]]), array([[0, 1, 1, 1, 1, 0, 0, 1, 0, 0, 0, 0, 0, 1, 0, 0, 0, 0, 0, 1, 0, 0,\n",
      "        0, 0, 0, 1, 1, 1, 1, 0]])] \n",
      "\n",
      " [[1 0 0]\n",
      " [0 1 0]\n",
      " [0 0 1]]\n"
     ]
    }
   ],
   "source": [
    "#Convert data and lables into numpy array\n",
    "x = [np.array(a).reshape(1, 30), np.array(b).reshape(1, 30), np.array(c).reshape(1, 30)]\n",
    "y = np.array(y)\n",
    "\n",
    "print(x, \"\\n\\n\", y)"
   ]
  },
  {
   "cell_type": "code",
   "execution_count": 6,
   "id": "5c896f47-7996-4009-bf6a-874806ebdf3a",
   "metadata": {},
   "outputs": [],
   "source": [
    "#input layer\n",
    "#hidden layer\n",
    "#output layer"
   ]
  },
  {
   "cell_type": "code",
   "execution_count": 7,
   "id": "ff77d7fa-2f08-4416-95b0-57ab8e07931a",
   "metadata": {},
   "outputs": [],
   "source": [
    "#activation function\n",
    "def sigmoid(x):\n",
    "    return (1/(1+np.exp(-x)))"
   ]
  },
  {
   "cell_type": "code",
   "execution_count": 8,
   "id": "4a9a0497-24b4-49a4-a8cc-ba31bd3cea99",
   "metadata": {},
   "outputs": [],
   "source": [
    "#Creating a feed forward netural network\n",
    "def f_forward(x, w1, w2):\n",
    "    #hidden layer\n",
    "    z1 = x.dot(w1)\n",
    "    a1 = sigmoid(z1)\n",
    "\n",
    "    #output layer\n",
    "    z2 = a1.dot(w2)\n",
    "    a2 = sigmoid(z2)\n",
    "    return (a2)"
   ]
  },
  {
   "cell_type": "code",
   "execution_count": 9,
   "id": "7cb38556-6055-48bb-b3c5-980dbf91f7f5",
   "metadata": {},
   "outputs": [],
   "source": [
    "# initialize weights \n",
    "def generate_wt(x, y):\n",
    "    l = []\n",
    "    for i in range (x*y):\n",
    "        l.append(np.random.randn())\n",
    "    return (np.array(l).reshape(x, y))"
   ]
  },
  {
   "cell_type": "code",
   "execution_count": 10,
   "id": "19978910-f407-4847-b9aa-36d0dd859af2",
   "metadata": {},
   "outputs": [],
   "source": [
    "#loss computation \n",
    "def loss(out, y):\n",
    "    s = (np.square(out-y))\n",
    "    s = np.sum(s)/len(y)\n",
    "    return(s)"
   ]
  },
  {
   "cell_type": "code",
   "execution_count": 11,
   "id": "f4ac9da5-6ff4-45ce-a0a7-5f2a7df1d1ea",
   "metadata": {},
   "outputs": [],
   "source": [
    "#back propagation\n",
    "def back_prop(x, y, w1, w2, alpha):\n",
    "\n",
    "    #hidden layer\n",
    "    z1 = x.dot(w1)\n",
    "    a1 = sigmoid(z1)\n",
    "\n",
    "    #output layer\n",
    "    z2 = a1.dot(w2)\n",
    "    a2 = sigmoid(z2)\n",
    "\n",
    "    d2 = (a2-y)\n",
    "    d1_term = (w2.dot(d2.T)).T  # shape: (batch_size, hidden_size)\n",
    "    d1 = np.multiply(d1_term, a1 * (1 - a1))  # element-wise multiplication\n",
    "\n",
    "    # Gradient computation\n",
    "    w1_adj = x.T.dot(d1)\n",
    "    w2_adj = a1.T.dot(d2)\n",
    "\n",
    "    w1 = w1 - (alpha*(w1_adj))\n",
    "    w2 = w2 - (alpha*(w2_adj))\n",
    "\n",
    "    return (w1,w2)\n",
    "    "
   ]
  },
  {
   "cell_type": "code",
   "execution_count": 12,
   "id": "8e46a197-db6d-4e5b-8847-aa45293a88db",
   "metadata": {},
   "outputs": [],
   "source": [
    "# train the dataset\n",
    "\n",
    "def train(x, y, w1, w2, alpha= 0.01, epoch= 10):\n",
    "    acc= []\n",
    "    losss= []\n",
    "\n",
    "    for j in range(epoch):\n",
    "        l= []\n",
    "        for i in range(len(x)):\n",
    "            out = f_forward(x[i], w1, w2)\n",
    "            l.append((loss(out, y[i])))\n",
    "            w1, w2 = back_prop(x[i], y[i], w1, w2, alpha)\n",
    "        print(\"Epochs:\", j+1, \"acc:\", (1-sum(l)/len(x))*100)\n",
    "        acc.append((1-sum(l)/len(x))*100)\n",
    "        losss.append(sum(l)/len(x))\n",
    "    return acc, losss, w1, w2"
   ]
  },
  {
   "cell_type": "code",
   "execution_count": 13,
   "id": "b072f7a2-d2b5-4b44-a725-5ad444f8bf71",
   "metadata": {},
   "outputs": [],
   "source": [
    "# predicting the values\n",
    "def predict(x, w1, w2):\n",
    "    Out = f_forward(x, w1, w2)\n",
    "    maxm = 0\n",
    "    k = 0\n",
    "    for i in range(len(Out[0])): \n",
    "        if(maxm < Out[0][i]):\n",
    "            maxm= Out[0][i]\n",
    "            k= i\n",
    "    if(k == 0):\n",
    "        print(\"Image is of letter A\")\n",
    "    elif(k == 1):\n",
    "        print(\"Image is of letter B\")\n",
    "    else:\n",
    "        print(\"Image is of letter C\")\n",
    "    plt.imshow(x.reshape(5, 6))\n",
    "    plt.show()"
   ]
  },
  {
   "cell_type": "code",
   "execution_count": 14,
   "id": "2c234e02-2f59-4764-afa6-4482133b2ccc",
   "metadata": {},
   "outputs": [
    {
     "name": "stdout",
     "output_type": "stream",
     "text": [
      "[[-1.50881561e+00 -1.42151273e+00 -1.77532521e-01 -1.38099287e+00\n",
      "   1.32398724e+00]\n",
      " [-4.23091905e-01 -5.24545686e-01  1.87408290e+00  1.10615195e+00\n",
      "   1.18692327e+00]\n",
      " [ 1.76533993e-01  1.32996954e+00 -7.98444903e-01  2.71779759e-01\n",
      "  -6.40196532e-01]\n",
      " [ 7.75132859e-01 -5.13113056e-01 -8.70712036e-01  1.79309175e+00\n",
      "  -7.81530151e-01]\n",
      " [ 1.47831301e+00  7.76403278e-01  1.61063310e+00  2.44070225e+00\n",
      "   7.82660084e-01]\n",
      " [-8.56838711e-01  1.00705409e+00 -9.94667282e-01  5.58126650e-01\n",
      "   1.55948892e+00]\n",
      " [-9.65558193e-01 -7.71745741e-01 -2.74364209e-01  3.18380194e-01\n",
      "   2.77598549e-01]\n",
      " [ 7.13988130e-01 -1.25658280e+00 -9.71094779e-01 -1.27382959e+00\n",
      "  -1.00811818e-01]\n",
      " [ 1.37547075e-02  7.32845711e-01  1.63563125e+00 -6.33590634e-01\n",
      "  -6.47108623e-01]\n",
      " [ 5.49720378e-01  8.18209167e-01 -3.96188798e-01 -3.88514605e-01\n",
      "   1.29705286e+00]\n",
      " [-4.68589660e-01 -4.48457464e-01  1.58434707e+00  2.13550173e+00\n",
      "  -1.16236463e-01]\n",
      " [ 7.33148815e-01 -1.62121042e+00  3.89879469e-01 -8.46712157e-02\n",
      "  -1.09403315e+00]\n",
      " [ 1.57648482e+00  7.30585590e-01 -2.43752806e+00  1.83638516e-01\n",
      "   5.53262023e-01]\n",
      " [ 1.04215699e+00 -2.66967134e-01  1.36727551e-01 -2.22097111e-01\n",
      "   6.57035713e-01]\n",
      " [-2.11367295e-01  8.51531164e-04  5.88486862e-01  1.16191236e+00\n",
      "   7.41793714e-01]\n",
      " [-1.36989602e+00  1.58187105e+00 -1.27412118e+00  1.50439626e+00\n",
      "  -5.90472749e-01]\n",
      " [ 1.14415568e+00 -1.67471549e+00  4.46252051e-01  1.23198633e+00\n",
      "  -8.08082108e-01]\n",
      " [ 2.27144127e-02 -1.37219892e+00 -6.11858285e-01  5.05585936e-01\n",
      "  -4.41943505e-01]\n",
      " [ 2.31701954e-02  7.08294001e-01 -2.40707278e-01 -2.51098801e+00\n",
      "   9.00346022e-02]\n",
      " [-3.01235406e-01  8.66443646e-01 -4.95712999e-01 -1.04184427e+00\n",
      "  -1.66225822e+00]\n",
      " [-1.26692691e+00 -9.34341706e-01 -1.54343603e+00  1.48190945e-01\n",
      "  -1.37410047e+00]\n",
      " [-1.42350592e-01 -8.36310440e-01 -2.99858864e-01 -4.58232106e-01\n",
      "   1.00658613e+00]\n",
      " [ 1.16872922e+00  7.37388025e-01 -6.21574016e-01  6.97100907e-01\n",
      "   1.62275283e+00]\n",
      " [-5.89867360e-01  9.49808820e-01  2.36116509e-01 -4.19495826e-01\n",
      "   6.62959842e-01]\n",
      " [ 3.88762969e-01  2.33640420e-01 -2.55393371e-01 -3.17945530e-01\n",
      "  -3.20232299e-01]\n",
      " [ 1.86642972e+00 -2.46254007e-01 -3.04515956e-03 -5.90456334e-01\n",
      "  -7.77172805e-01]\n",
      " [-5.79506916e-01  1.75291683e-01  1.56235943e+00 -6.99237138e-01\n",
      "   1.46388016e+00]\n",
      " [ 1.41477175e-01 -1.10164524e+00  1.51258816e+00 -4.47134863e-01\n",
      "   6.52569076e-01]\n",
      " [ 9.30911235e-01  4.74022092e-01 -1.24898734e+00 -5.92108382e-01\n",
      "   3.86451894e-01]\n",
      " [ 8.07588818e-01  1.34129807e+00 -1.30417180e+00  6.50593856e-01\n",
      "   2.39821217e-01]] \n",
      "\n",
      " [[-1.34433918  0.00248018 -0.88227389]\n",
      " [-1.57549421  0.76558473 -0.78501711]\n",
      " [ 0.92786249  0.66225841  0.31757191]\n",
      " [ 0.35297128  2.02500316  1.52565107]\n",
      " [-0.55661226 -0.68844136  1.95667714]]\n"
     ]
    }
   ],
   "source": [
    "w1= generate_wt(30, 5)\n",
    "w2= generate_wt(5, 3)\n",
    "\n",
    "print(w1, \"\\n\\n\", w2)"
   ]
  },
  {
   "cell_type": "code",
   "execution_count": 15,
   "id": "bbf307e9-1e2c-4df1-9ea4-430ec0adba82",
   "metadata": {},
   "outputs": [
    {
     "name": "stdout",
     "output_type": "stream",
     "text": [
      "Epochs: 1 acc: 57.63553516502395\n",
      "Epochs: 2 acc: 61.76767533797267\n",
      "Epochs: 3 acc: 65.32310399942499\n",
      "Epochs: 4 acc: 68.26598743170074\n",
      "Epochs: 5 acc: 70.63555877981199\n",
      "Epochs: 6 acc: 72.53406841896994\n",
      "Epochs: 7 acc: 74.07682541464875\n",
      "Epochs: 8 acc: 75.36301523842441\n",
      "Epochs: 9 acc: 76.46719173410355\n",
      "Epochs: 10 acc: 77.4416100468392\n",
      "Epochs: 11 acc: 78.32203915996327\n",
      "Epochs: 12 acc: 79.13312606802711\n",
      "Epochs: 13 acc: 79.89214922383225\n",
      "Epochs: 14 acc: 80.61135504992633\n",
      "Epochs: 15 acc: 81.29937714730166\n",
      "Epochs: 16 acc: 81.96213531210844\n",
      "Epochs: 17 acc: 82.60346049969426\n",
      "Epochs: 18 acc: 83.22558617112168\n",
      "Epochs: 19 acc: 83.82957726333366\n",
      "Epochs: 20 acc: 84.41571811365345\n",
      "Epochs: 21 acc: 84.98384794505486\n",
      "Epochs: 22 acc: 85.53362202163932\n",
      "Epochs: 23 acc: 86.06468679956166\n",
      "Epochs: 24 acc: 86.57677644995624\n",
      "Epochs: 25 acc: 87.06975213652308\n",
      "Epochs: 26 acc: 87.54360820397203\n",
      "Epochs: 27 acc: 87.99846372158649\n",
      "Epochs: 28 acc: 88.43454970983706\n",
      "Epochs: 29 acc: 88.85219609799582\n",
      "Epochs: 30 acc: 89.25181914718254\n",
      "Epochs: 31 acc: 89.6339089967764\n",
      "Epochs: 32 acc: 89.99901702783666\n",
      "Epochs: 33 acc: 90.34774308281646\n",
      "Epochs: 34 acc: 90.6807228570187\n",
      "Epochs: 35 acc: 90.99861588566934\n",
      "Epochs: 36 acc: 91.30209452057912\n",
      "Epochs: 37 acc: 91.59183418428951\n",
      "Epochs: 38 acc: 91.86850506057277\n",
      "Epochs: 39 acc: 92.1327652614756\n",
      "Epochs: 40 acc: 92.38525541836384\n",
      "Epochs: 41 acc: 92.62659458134986\n",
      "Epochs: 42 acc: 92.85737727524304\n",
      "Epochs: 43 acc: 93.07817154520657\n",
      "Epochs: 44 acc: 93.28951782559898\n",
      "Epochs: 45 acc: 93.49192847566738\n",
      "Epochs: 46 acc: 93.68588784158048\n",
      "Epochs: 47 acc: 93.87185272262668\n",
      "Epochs: 48 acc: 94.05025313813596\n",
      "Epochs: 49 acc: 94.22149330949125\n",
      "Epochs: 50 acc: 94.38595278772894\n",
      "Epochs: 51 acc: 94.54398767135814\n",
      "Epochs: 52 acc: 94.6959318710806\n",
      "Epochs: 53 acc: 94.84209838816354\n",
      "Epochs: 54 acc: 94.9827805814828\n",
      "Epochs: 55 acc: 95.11825340493904\n",
      "Epochs: 56 acc: 95.2487746022783\n",
      "Epochs: 57 acc: 95.3745858505444\n",
      "Epochs: 58 acc: 95.49591384664777\n",
      "Epochs: 59 acc: 95.6129713340323\n",
      "Epochs: 60 acc: 95.72595806830351\n",
      "Epochs: 61 acc: 95.8350617220768\n",
      "Epochs: 62 acc: 95.94045873031332\n",
      "Epochs: 63 acc: 96.04231507812158\n",
      "Epochs: 64 acc: 96.14078703347944\n",
      "Epochs: 65 acc: 96.23602182763213\n",
      "Epochs: 66 acc: 96.32815828608689\n",
      "Epochs: 67 acc: 96.41732741319169\n",
      "Epochs: 68 acc: 96.50365293327789\n",
      "Epochs: 69 acc: 96.58725179128682\n",
      "Epochs: 70 acc: 96.6682346157041\n",
      "Epochs: 71 acc: 96.74670614650496\n",
      "Epochs: 72 acc: 96.82276563067747\n",
      "Epochs: 73 acc: 96.89650718774632\n",
      "Epochs: 74 acc: 96.9680201475731\n",
      "Epochs: 75 acc: 97.03738936256043\n",
      "Epochs: 76 acc: 97.10469549624496\n",
      "Epochs: 77 acc: 97.17001529012357\n",
      "Epochs: 78 acc: 97.233421810425\n",
      "Epochs: 79 acc: 97.29498467641196\n",
      "Epochs: 80 acc: 97.35477027168\n",
      "Epochs: 81 acc: 97.41284193980707\n",
      "Epochs: 82 acc: 97.46926016560292\n",
      "Epochs: 83 acc: 97.5240827431097\n",
      "Epochs: 84 acc: 97.5773649314146\n",
      "Epochs: 85 acc: 97.62915959925002\n",
      "Epochs: 86 acc: 97.67951735927949\n",
      "Epochs: 87 acc: 97.72848669289446\n",
      "Epochs: 88 acc: 97.77611406628037\n",
      "Epochs: 89 acc: 97.8224440384485\n",
      "Epochs: 90 acc: 97.86751936187315\n",
      "Epochs: 91 acc: 97.91138107632106\n",
      "Epochs: 92 acc: 97.95406859641122\n",
      "Epochs: 93 acc: 97.99561979339944\n",
      "Epochs: 94 acc: 98.03607107164008\n",
      "Epochs: 95 acc: 98.07545744014018\n",
      "Epochs: 96 acc: 98.11381257958674\n",
      "Epochs: 97 acc: 98.15116890519536\n",
      "Epochs: 98 acc: 98.18755762570038\n",
      "Epochs: 99 acc: 98.2230087987787\n",
      "Epochs: 100 acc: 98.25755138317571\n"
     ]
    }
   ],
   "source": [
    "acc, losss, w1, w2 = train(x,y,w1,w2,0.1,100)"
   ]
  },
  {
   "cell_type": "code",
   "execution_count": 16,
   "id": "c05e649d-6d4b-4590-acd5-ba3de19ccc3a",
   "metadata": {},
   "outputs": [
    {
     "data": {
      "image/png": "[encoded data removed]",
      "text/plain": [
       "<Figure size 640x480 with 1 Axes>"
      ]
     },
     "metadata": {},
     "output_type": "display_data"
    }
   ],
   "source": [
    "import matplotlib.pyplot as plt1\n",
    "\n",
    "#plotting accuracy\n",
    "plt1.plot(acc)\n",
    "plt.ylabel(\"Accuarcy\")\n",
    "plt.xlabel(\"Epochs:\")\n",
    "plt1.show()"
   ]
  },
  {
   "cell_type": "code",
   "execution_count": 17,
   "id": "a0f856ec-f2a6-466e-bd1b-8f94a5affe4f",
   "metadata": {},
   "outputs": [
    {
     "data": {
      "image/png": "[encoded data removed]",
      "text/plain": [
       "<Figure size 640x480 with 1 Axes>"
      ]
     },
     "metadata": {},
     "output_type": "display_data"
    }
   ],
   "source": [
    "#plot loss\n",
    "plt1.plot(losss)\n",
    "plt.ylabel(\"Loss\")\n",
    "plt.xlabel(\"Epochs:\")\n",
    "plt1.show()"
   ]
  },
  {
   "cell_type": "code",
   "execution_count": 18,
   "id": "0e5fd1b7-4012-4d23-81e8-e47babc926a8",
   "metadata": {},
   "outputs": [
    {
     "name": "stdout",
     "output_type": "stream",
     "text": [
      "[[-1.50881561 -1.42151273 -0.17753252 -1.38099287  1.32398724]\n",
      " [-0.42683533 -0.29892111  1.89941603  0.72915253  1.3650375 ]\n",
      " [ 0.23038908  0.82988902 -0.79116876 -0.089865   -0.58732886]\n",
      " [ 0.82898794 -1.01319358 -0.8634359   1.43144699 -0.72866248]\n",
      " [ 1.47456959  1.00202785  1.63596624  2.06370282  0.96077431]\n",
      " [-0.85683871  1.00705409 -0.99466728  0.55812665  1.55948892]\n",
      " [-0.96555819 -0.77174574 -0.27436421  0.31838019  0.27759855]\n",
      " [ 0.76784321 -1.75666332 -0.96381864 -1.63547435 -0.04794415]\n",
      " [ 0.01375471  0.73284571  1.63563125 -0.63359063 -0.64710862]\n",
      " [ 0.54972038  0.81820917 -0.3961888  -0.3885146   1.29705286]\n",
      " [-0.41329388 -0.03043492  1.68568585  2.17635437 -1.28999966]\n",
      " [ 0.73314882 -1.62121042  0.38987947 -0.08467122 -1.09403315]\n",
      " [ 1.63408333  0.0048805  -2.45558505  0.19899318  0.42801547]\n",
      " [ 1.09601208 -0.76704765  0.14400369 -0.58374187  0.70990338]\n",
      " [-0.15607152  0.41887407  0.68982565  1.202765   -0.43196948]\n",
      " [-1.31460024  1.99989359 -1.17278239  1.5452489  -1.76423594]\n",
      " [ 1.19945146 -1.25669295  0.54759084  1.27283897 -1.9818453 ]\n",
      " [ 0.08031292 -2.09790401 -0.62991528  0.5209406  -0.56719006]\n",
      " [ 0.0807687  -0.01741109 -0.25876427 -2.49563335 -0.03521195]\n",
      " [-0.30497883  1.09206822 -0.47037986 -1.41884369 -1.484144  ]\n",
      " [-1.26692691 -0.93434171 -1.54343603  0.14819095 -1.37410047]\n",
      " [-0.14235059 -0.83631044 -0.29985886 -0.45823211  1.00658613]\n",
      " [ 1.16642649  1.88111566 -0.50217823  0.72259888  0.57423619]\n",
      " [-0.53226886  0.22410373  0.21805951 -0.40414117  0.53771329]\n",
      " [ 0.44636147 -0.49206467 -0.27345037 -0.30259087 -0.44547886]\n",
      " [ 1.8626863  -0.02062943  0.02228798 -0.96745575 -0.59905858]\n",
      " [-0.58325034  0.40091626  1.58769257 -1.07623656  1.64199439]\n",
      " [ 0.13773375 -0.87602067  1.5379213  -0.82413428  0.8306833 ]\n",
      " [ 0.92716781  0.69964666 -1.2236542  -0.9691078   0.56456612]\n",
      " [ 0.86518732  0.61559298 -1.32222879  0.66594852  0.11457466]] \n",
      "\n",
      " [[-0.21885396 -2.65900568 -1.42699501]\n",
      " [-2.5157673   1.41773113 -1.15431716]\n",
      " [-1.4485424   1.77310234  0.96728936]\n",
      " [ 1.9476426   1.21957023 -1.50000859]\n",
      " [-1.64136252 -1.63999013  3.38669593]]\n"
     ]
    }
   ],
   "source": [
    "print(w1, \"\\n\\n\", w2)"
   ]
  },
  {
   "cell_type": "code",
   "execution_count": 23,
   "id": "21cf87f3-5dd1-4ebd-81c7-12aecdb7f5aa",
   "metadata": {},
   "outputs": [
    {
     "name": "stdout",
     "output_type": "stream",
     "text": [
      "Image is of letter A\n"
     ]
    },
    {
     "data": {
      "image/png": "[encoded data removed]",
      "text/plain": [
       "<Figure size 640x480 with 1 Axes>"
      ]
     },
     "metadata": {},
     "output_type": "display_data"
    }
   ],
   "source": [
    "predict(x[0], w1, w2)"
   ]
  }
 ],
 "metadata": {
  "kernelspec": {
   "display_name": "Python [conda env:base] *",
   "language": "python",
   "name": "conda-base-py"
  },
  "language_info": {
   "codemirror_mode": {
    "name": "ipython",
    "version": 3
   },
   "file_extension": ".py",
   "mimetype": "text/x-python",
   "name": "python",
   "nbconvert_exporter": "python",
   "pygments_lexer": "ipython3",
   "version": "3.12.7"
  }
 },
 "nbformat": 4,
 "nbformat_minor": 5
}
